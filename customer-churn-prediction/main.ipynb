{
 "cells": [
  {
   "cell_type": "code",
   "execution_count": null,
   "id": "4d34fc8d",
   "metadata": {},
   "outputs": [],
   "source": [
    "#IMPORT NECESSARY LIBRARYS \n",
    "import pandas as pd \n",
    "import numpy as np \n",
    "import matplotlib.pyplot as plt \n",
    "import seaborn as sns \n",
    "import plotly.express as px\n",
    "import plotly.graph_objects as go\n",
    "import warnings \n",
    "from plotly.subplots import make_subplots\n",
    "from sklearn.model_selection import train_test_split, cross_val_score\n",
    "from sklearn.metrics import classification_report, confusion_matrix \n",
    "from imblearn.over_sampling import SMOTE\n",
    "from sklearn.neighbors import KNeighborsClassifier\n",
    "from sklearn.neural_network import MLPClassifier\n",
    "from sklearn.naive_bayes import GaussianNB \n",
    "from sklearn.svm import SVC \n",
    "from sklearn.ensemble import RandomForestClassifier\n",
    "\n",
    "plt.rc('figure',figsize=(18,9))\n",
    "warnings.filterwarnings(\"ignore\")\n",
    "\n",
    "%matplotlib inline "
   ]
  },
  {
   "cell_type": "code",
   "execution_count": null,
   "id": "ca0c9496",
   "metadata": {},
   "outputs": [],
   "source": [
    "df = pd.read_csv(\"BankChurners.csv\")\n",
    "df.sample(5)"
   ]
  },
  {
   "cell_type": "code",
   "execution_count": null,
   "id": "58a72dd1",
   "metadata": {},
   "outputs": [],
   "source": [
    "#OK, LET'S TO REMOVE UNNECESSARY COLUMNS \n",
    "df = df.drop([\"CLIENTNUM\", \n",
    "              \"Naive_Bayes_Classifier_Attrition_Flag_Card_Category_Contacts_Count_12_mon_Dependent_count_Education_Level_Months_Inactive_12_mon_1\", \n",
    "              \"Naive_Bayes_Classifier_Attrition_Flag_Card_Category_Contacts_Count_12_mon_Dependent_count_Education_Level_Months_Inactive_12_mon_2\"\n",
    "             ], axis=1)\n",
    "df.sample(5)"
   ]
  },
  {
   "cell_type": "markdown",
   "id": "aadd50be",
   "metadata": {},
   "source": [
    "#### EXPLORE DATA "
   ]
  },
  {
   "cell_type": "code",
   "execution_count": null,
   "id": "b583c352",
   "metadata": {
    "scrolled": true
   },
   "outputs": [],
   "source": [
    "df.describe()"
   ]
  },
  {
   "cell_type": "code",
   "execution_count": null,
   "id": "2bdb71dc",
   "metadata": {},
   "outputs": [],
   "source": [
    "df.info()"
   ]
  },
  {
   "cell_type": "code",
   "execution_count": null,
   "id": "efa88059",
   "metadata": {},
   "outputs": [],
   "source": [
    "#VERIFY NULL VALUES \n",
    "df.isna().sum()"
   ]
  },
  {
   "cell_type": "code",
   "execution_count": null,
   "id": "2993c062",
   "metadata": {},
   "outputs": [],
   "source": [
    "corr = df.corr()\n",
    "\n",
    "plt.figure(figsize=[20,10])\n",
    "plt.title(\"Correlation of the Numerical Features\", size=30, pad=25)\n",
    "sns.heatmap(corr, annot=True)\n",
    "plt.show()"
   ]
  },
  {
   "cell_type": "code",
   "execution_count": null,
   "id": "ce329801",
   "metadata": {},
   "outputs": [],
   "source": [
    "#AGE DISTRIBUTION \n",
    "fig = px.histogram(x=df['Customer_Age'], marginal=\"box\")\n",
    "fig.update_layout(title_text=\"Distribution of Customer Ages\")\n",
    "\n",
    "fig.show()"
   ]
  },
  {
   "cell_type": "code",
   "execution_count": null,
   "id": "8b3150d8",
   "metadata": {},
   "outputs": [],
   "source": [
    "#Distribuition of Dependent Counts \n",
    "fig = px.histogram(x=df['Dependent_count'], marginal=\"box\")\n",
    "fig.update_layout(title_text=\"Distribution of Dependent Counts\")\n",
    "\n",
    "fig.show()"
   ]
  },
  {
   "cell_type": "code",
   "execution_count": null,
   "id": "3dbbee0e",
   "metadata": {},
   "outputs": [],
   "source": [
    "px.pie(df, names='Education_Level', title='Propotion of Education Levels', hole=0.2)"
   ]
  },
  {
   "cell_type": "code",
   "execution_count": null,
   "id": "b639da5b",
   "metadata": {},
   "outputs": [],
   "source": [
    "px.pie(df, names='Income_Category', title='Propotion of Different Income Levels', hole=0.2)"
   ]
  },
  {
   "cell_type": "code",
   "execution_count": null,
   "id": "27b21e6a",
   "metadata": {
    "scrolled": false
   },
   "outputs": [],
   "source": [
    "fig = px.histogram(x=df['Credit_Limit'], marginal=\"box\")\n",
    "fig.update_layout(title_text=\"Distribution of the Credit Limit\")\n",
    "\n",
    "fig.show()"
   ]
  },
  {
   "cell_type": "code",
   "execution_count": null,
   "id": "476c69a0",
   "metadata": {
    "scrolled": false
   },
   "outputs": [],
   "source": [
    "px.pie(df, names='Attrition_Flag', title='Proportion of Churn Customers', hole=0.2)"
   ]
  },
  {
   "cell_type": "markdown",
   "id": "5a0c0313",
   "metadata": {},
   "source": [
    "#### FEATURE ENGENEERING "
   ]
  },
  {
   "cell_type": "code",
   "execution_count": null,
   "id": "bd7d70a8",
   "metadata": {},
   "outputs": [],
   "source": [
    "#LET'S SEE THE TYPE OF EACH COLUMN OF OUR DATASET \n",
    "df.dtypes"
   ]
  },
  {
   "cell_type": "code",
   "execution_count": null,
   "id": "e9151a0d",
   "metadata": {},
   "outputs": [],
   "source": [
    "#TRANSFORM THE GENDER TO BINARY LABEL \n",
    "df.Gender = df.Gender.map({'M':1, 'F':0})\n",
    "df.Gender.sample(5)"
   ]
  },
  {
   "cell_type": "code",
   "execution_count": null,
   "id": "1feb8f82",
   "metadata": {
    "scrolled": true
   },
   "outputs": [],
   "source": [
    "#FINDING THE CATEGORICAL COLUMNS TO TRANSFORM \n",
    "categorical_columns = df.select_dtypes(exclude=['int64', 'float64']).columns \n",
    "\n",
    "for col in categorical_columns:\n",
    "    dummy = pd.get_dummies(df[col], drop_first=True, prefix=col)\n",
    "    df = pd.concat([df, dummy], axis=1)\n",
    "    df.drop(columns=col, inplace=True)\n",
    "\n",
    "df.sample(5)"
   ]
  },
  {
   "cell_type": "code",
   "execution_count": null,
   "id": "3abcfa8b",
   "metadata": {},
   "outputs": [],
   "source": [
    "df.columns == 'Atrition_Flag'"
   ]
  }
 ],
 "metadata": {
  "kernelspec": {
   "display_name": "Python 3 (ipykernel)",
   "language": "python",
   "name": "python3"
  },
  "language_info": {
   "codemirror_mode": {
    "name": "ipython",
    "version": 3
   },
   "file_extension": ".py",
   "mimetype": "text/x-python",
   "name": "python",
   "nbconvert_exporter": "python",
   "pygments_lexer": "ipython3",
   "version": "3.9.7"
  }
 },
 "nbformat": 4,
 "nbformat_minor": 5
}
