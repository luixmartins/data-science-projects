{
  "nbformat": 4,
  "nbformat_minor": 0,
  "metadata": {
    "colab": {
      "name": "steam_game_review_classification.ipynb",
      "provenance": [],
      "authorship_tag": "ABX9TyMfWH9whC1vq7ATgJ04ZXe+",
      "include_colab_link": true
    },
    "kernelspec": {
      "name": "python3",
      "display_name": "Python 3"
    },
    "language_info": {
      "name": "python"
    },
    "accelerator": "GPU"
  },
  "cells": [
    {
      "cell_type": "markdown",
      "metadata": {
        "id": "view-in-github",
        "colab_type": "text"
      },
      "source": [
        "<a href=\"https://colab.research.google.com/github/luixmartins/data-science-projects/blob/main/steam_game_review_classification.ipynb\" target=\"_parent\"><img src=\"https://colab.research.google.com/assets/colab-badge.svg\" alt=\"Open In Colab\"/></a>"
      ]
    },
    {
      "cell_type": "markdown",
      "source": [
        "# STEAM GAME REVIEW CLASSIFICATION \n",
        "\n",
        "In this notebook we'll only perform the task of classifying the texts. \n",
        "To consult the exploratory analysis of the data, you can access my other work that is available in this same repository. \n",
        "\n",
        "* Analysis and visualization of data information: [Steam game review analysis](https://github.com/luixmartins/data-science-projects/blob/main/steam-game-review/starter-eda-steam-game-review.ipynb)\n",
        "\n",
        "<br>\n",
        "For the classification text we'll use a new proposal for creating a Bag of Words(BoW), the bertVectorizer algorithm. \n",
        "\n",
        "You can access the documentation at: [bertVectorizer documentation](https://github.com/ivanfilhoreis/bertVectorizer) "
      ],
      "metadata": {
        "id": "lM0iVivcchks"
      }
    },
    {
      "cell_type": "code",
      "source": [
        "!pip install git+https://github.com/ivanfilhoreis/bertVectorizer.git -q\n",
        "!pip install -U sentence-transformers -q"
      ],
      "metadata": {
        "colab": {
          "base_uri": "https://localhost:8080/"
        },
        "id": "sga6PBgXah-c",
        "outputId": "f4ea0b70-b18f-4672-ff91-7ce5f814d9f3"
      },
      "execution_count": 1,
      "outputs": [
        {
          "output_type": "stream",
          "name": "stdout",
          "text": [
            "  Building wheel for bertVectorizer (setup.py) ... \u001b[?25l\u001b[?25hdone\n",
            "\u001b[33m  WARNING: Built wheel for bertVectorizer is invalid: Metadata 1.2 mandates PEP 440 version, but 'beta' is not\u001b[0m\n",
            "    Running setup.py install for bertVectorizer ... \u001b[?25l\u001b[?25hdone\n",
            "\u001b[33m  DEPRECATION: bertVectorizer was installed using the legacy 'setup.py install' method, because a wheel could not be built for it. A possible replacement is to fix the wheel build issue reported above. You can find discussion regarding this at https://github.com/pypa/pip/issues/8368.\u001b[0m\n",
            "\u001b[K     |████████████████████████████████| 79 kB 3.6 MB/s \n",
            "\u001b[K     |████████████████████████████████| 3.8 MB 7.3 MB/s \n",
            "\u001b[K     |████████████████████████████████| 1.2 MB 36.4 MB/s \n",
            "\u001b[K     |████████████████████████████████| 67 kB 4.9 MB/s \n",
            "\u001b[K     |████████████████████████████████| 6.5 MB 37.2 MB/s \n",
            "\u001b[K     |████████████████████████████████| 596 kB 49.1 MB/s \n",
            "\u001b[K     |████████████████████████████████| 895 kB 38.7 MB/s \n",
            "\u001b[?25h  Building wheel for sentence-transformers (setup.py) ... \u001b[?25l\u001b[?25hdone\n"
          ]
        }
      ]
    },
    {
      "cell_type": "markdown",
      "source": [
        "### Import necessary librarys / Data visualization "
      ],
      "metadata": {
        "id": "RoKYT72Pbi5w"
      }
    },
    {
      "cell_type": "code",
      "execution_count": 2,
      "metadata": {
        "colab": {
          "base_uri": "https://localhost:8080/"
        },
        "id": "WiD4mFEPYLZj",
        "outputId": "4d1b933e-04bd-4cea-d571-2f924703be2b"
      },
      "outputs": [
        {
          "output_type": "stream",
          "name": "stdout",
          "text": [
            "[nltk_data] Downloading package stopwords to /root/nltk_data...\n",
            "[nltk_data]   Unzipping corpora/stopwords.zip.\n"
          ]
        }
      ],
      "source": [
        "import pandas as pd \n",
        "import numpy as np\n",
        "import matplotlib.pyplot as plt \n",
        "import collections \n",
        "from google.colab import data_table\n",
        "from bertVectorizer import bertVectorizer\n",
        "from sklearn.neighbors import KNeighborsClassifier\n",
        "from sklearn.neural_network import MLPClassifier\n",
        "from sklearn.naive_bayes import GaussianNB \n",
        "from sklearn.svm import SVC \n",
        "from sklearn.ensemble import RandomForestClassifier\n",
        "from sklearn.ensemble import AdaBoostClassifier\n",
        "from sklearn.model_selection import cross_val_score, train_test_split \n",
        "from sklearn.metrics import confusion_matrix, classification_report \n",
        "\n",
        "%matplotlib inline \n",
        "\n",
        "data_table.enable_dataframe_formatter()"
      ]
    },
    {
      "cell_type": "code",
      "source": [
        "path = 'https://raw.githubusercontent.com/luixmartins/data-science-projects/main/steam-game-review/steam_game_review.csv'\n",
        "df = pd.read_csv(path)\n",
        "\n",
        "df.sample(5)"
      ],
      "metadata": {
        "colab": {
          "base_uri": "https://localhost:8080/",
          "height": 464
        },
        "id": "Wp3z00Lyb0YZ",
        "outputId": "12b8359f-e2b4-4888-fb53-a2e831e84304"
      },
      "execution_count": 10,
      "outputs": [
        {
          "output_type": "execute_result",
          "data": {
            "text/plain": [
              "       review_id                       title    year  \\\n",
              "5711        8086     DCS World Steam Edition  2018.0   \n",
              "11794      17291                Bless Online  2018.0   \n",
              "16759      24728              Cuisine Royale  2018.0   \n",
              "12776      18273  RaceRoom Racing Experience  2014.0   \n",
              "10349      15757           theHunter Classic  2014.0   \n",
              "\n",
              "                                             user_review  user_suggestion  \n",
              "5711   Don't let my hours fool you, I've been well an...                1  \n",
              "11794  Early Access ReviewDO NOT BUY THIS GAME!!!!!Li...                0  \n",
              "16759  Early Access ReviewAmazing game, absolutely lo...                1  \n",
              "12776  This Is So Hard To Steer I don't Get it? DONT ...                0  \n",
              "10349  A quite frankly fantastic hunting game that de...                0  "
            ],
            "text/html": [
              "\n",
              "  <div id=\"df-b4a80779-05a3-4381-9c2c-c9c7cdff3cd7\">\n",
              "    <div class=\"colab-df-container\">\n",
              "      <div>\n",
              "<style scoped>\n",
              "    .dataframe tbody tr th:only-of-type {\n",
              "        vertical-align: middle;\n",
              "    }\n",
              "\n",
              "    .dataframe tbody tr th {\n",
              "        vertical-align: top;\n",
              "    }\n",
              "\n",
              "    .dataframe thead th {\n",
              "        text-align: right;\n",
              "    }\n",
              "</style>\n",
              "<table border=\"1\" class=\"dataframe\">\n",
              "  <thead>\n",
              "    <tr style=\"text-align: right;\">\n",
              "      <th></th>\n",
              "      <th>review_id</th>\n",
              "      <th>title</th>\n",
              "      <th>year</th>\n",
              "      <th>user_review</th>\n",
              "      <th>user_suggestion</th>\n",
              "    </tr>\n",
              "  </thead>\n",
              "  <tbody>\n",
              "    <tr>\n",
              "      <th>5711</th>\n",
              "      <td>8086</td>\n",
              "      <td>DCS World Steam Edition</td>\n",
              "      <td>2018.0</td>\n",
              "      <td>Don't let my hours fool you, I've been well an...</td>\n",
              "      <td>1</td>\n",
              "    </tr>\n",
              "    <tr>\n",
              "      <th>11794</th>\n",
              "      <td>17291</td>\n",
              "      <td>Bless Online</td>\n",
              "      <td>2018.0</td>\n",
              "      <td>Early Access ReviewDO NOT BUY THIS GAME!!!!!Li...</td>\n",
              "      <td>0</td>\n",
              "    </tr>\n",
              "    <tr>\n",
              "      <th>16759</th>\n",
              "      <td>24728</td>\n",
              "      <td>Cuisine Royale</td>\n",
              "      <td>2018.0</td>\n",
              "      <td>Early Access ReviewAmazing game, absolutely lo...</td>\n",
              "      <td>1</td>\n",
              "    </tr>\n",
              "    <tr>\n",
              "      <th>12776</th>\n",
              "      <td>18273</td>\n",
              "      <td>RaceRoom Racing Experience</td>\n",
              "      <td>2014.0</td>\n",
              "      <td>This Is So Hard To Steer I don't Get it? DONT ...</td>\n",
              "      <td>0</td>\n",
              "    </tr>\n",
              "    <tr>\n",
              "      <th>10349</th>\n",
              "      <td>15757</td>\n",
              "      <td>theHunter Classic</td>\n",
              "      <td>2014.0</td>\n",
              "      <td>A quite frankly fantastic hunting game that de...</td>\n",
              "      <td>0</td>\n",
              "    </tr>\n",
              "  </tbody>\n",
              "</table>\n",
              "</div>\n",
              "      <button class=\"colab-df-convert\" onclick=\"convertToInteractive('df-b4a80779-05a3-4381-9c2c-c9c7cdff3cd7')\"\n",
              "              title=\"Convert this dataframe to an interactive table.\"\n",
              "              style=\"display:none;\">\n",
              "        \n",
              "  <svg xmlns=\"http://www.w3.org/2000/svg\" height=\"24px\"viewBox=\"0 0 24 24\"\n",
              "       width=\"24px\">\n",
              "    <path d=\"M0 0h24v24H0V0z\" fill=\"none\"/>\n",
              "    <path d=\"M18.56 5.44l.94 2.06.94-2.06 2.06-.94-2.06-.94-.94-2.06-.94 2.06-2.06.94zm-11 1L8.5 8.5l.94-2.06 2.06-.94-2.06-.94L8.5 2.5l-.94 2.06-2.06.94zm10 10l.94 2.06.94-2.06 2.06-.94-2.06-.94-.94-2.06-.94 2.06-2.06.94z\"/><path d=\"M17.41 7.96l-1.37-1.37c-.4-.4-.92-.59-1.43-.59-.52 0-1.04.2-1.43.59L10.3 9.45l-7.72 7.72c-.78.78-.78 2.05 0 2.83L4 21.41c.39.39.9.59 1.41.59.51 0 1.02-.2 1.41-.59l7.78-7.78 2.81-2.81c.8-.78.8-2.07 0-2.86zM5.41 20L4 18.59l7.72-7.72 1.47 1.35L5.41 20z\"/>\n",
              "  </svg>\n",
              "      </button>\n",
              "      \n",
              "  <style>\n",
              "    .colab-df-container {\n",
              "      display:flex;\n",
              "      flex-wrap:wrap;\n",
              "      gap: 12px;\n",
              "    }\n",
              "\n",
              "    .colab-df-convert {\n",
              "      background-color: #E8F0FE;\n",
              "      border: none;\n",
              "      border-radius: 50%;\n",
              "      cursor: pointer;\n",
              "      display: none;\n",
              "      fill: #1967D2;\n",
              "      height: 32px;\n",
              "      padding: 0 0 0 0;\n",
              "      width: 32px;\n",
              "    }\n",
              "\n",
              "    .colab-df-convert:hover {\n",
              "      background-color: #E2EBFA;\n",
              "      box-shadow: 0px 1px 2px rgba(60, 64, 67, 0.3), 0px 1px 3px 1px rgba(60, 64, 67, 0.15);\n",
              "      fill: #174EA6;\n",
              "    }\n",
              "\n",
              "    [theme=dark] .colab-df-convert {\n",
              "      background-color: #3B4455;\n",
              "      fill: #D2E3FC;\n",
              "    }\n",
              "\n",
              "    [theme=dark] .colab-df-convert:hover {\n",
              "      background-color: #434B5C;\n",
              "      box-shadow: 0px 1px 3px 1px rgba(0, 0, 0, 0.15);\n",
              "      filter: drop-shadow(0px 1px 2px rgba(0, 0, 0, 0.3));\n",
              "      fill: #FFFFFF;\n",
              "    }\n",
              "  </style>\n",
              "\n",
              "      <script>\n",
              "        const buttonEl =\n",
              "          document.querySelector('#df-b4a80779-05a3-4381-9c2c-c9c7cdff3cd7 button.colab-df-convert');\n",
              "        buttonEl.style.display =\n",
              "          google.colab.kernel.accessAllowed ? 'block' : 'none';\n",
              "\n",
              "        async function convertToInteractive(key) {\n",
              "          const element = document.querySelector('#df-b4a80779-05a3-4381-9c2c-c9c7cdff3cd7');\n",
              "          const dataTable =\n",
              "            await google.colab.kernel.invokeFunction('convertToInteractive',\n",
              "                                                     [key], {});\n",
              "          if (!dataTable) return;\n",
              "\n",
              "          const docLinkHtml = 'Like what you see? Visit the ' +\n",
              "            '<a target=\"_blank\" href=https://colab.research.google.com/notebooks/data_table.ipynb>data table notebook</a>'\n",
              "            + ' to learn more about interactive tables.';\n",
              "          element.innerHTML = '';\n",
              "          dataTable['output_type'] = 'display_data';\n",
              "          await google.colab.output.renderOutput(dataTable, element);\n",
              "          const docLink = document.createElement('div');\n",
              "          docLink.innerHTML = docLinkHtml;\n",
              "          element.appendChild(docLink);\n",
              "        }\n",
              "      </script>\n",
              "    </div>\n",
              "  </div>\n",
              "  "
            ],
            "application/vnd.google.colaboratory.module+javascript": "\n      import \"https://ssl.gstatic.com/colaboratory/data_table/81f25a011006ed3d/data_table.js\";\n\n      window.createDataTable({\n        data: [[{\n            'v': 5711,\n            'f': \"5711\",\n        },\n{\n            'v': 8086,\n            'f': \"8086\",\n        },\n\"DCS World Steam Edition\",\n{\n            'v': 2018.0,\n            'f': \"2018.0\",\n        },\n\"Don't let my hours fool you, I've been well and truly sucked into this game and have since purchased most of my modules directly from the developers site.If you are into combat simulator games this is the absolute epitome, nothing on the market can get you quite as close to flying a jet, down to the start-up procedures and toggling switches. If you are looking for WW2 warbirds then this is a study level sim for that however IL2 is an overall better package in this case even if not a study level (but then again that game is targeted at that era)There is lots to choose from, from cold war ear Soviet MIg-21s to modern US Naval F/A-18s. And with the near release of the hotly anticipated F-14 you too will be able to feel the need.... for speed (just watch your head upon ejection)So in all if you are looking for a study level combat sim, that models each plane excellently, that has VR support (with 'ok' performance) I would highly reccomend. Just watch your wallet, you'll find your money has a habbit of dissapearing with all the hype of module releases :)\",\n{\n            'v': 1,\n            'f': \"1\",\n        }],\n [{\n            'v': 11794,\n            'f': \"11794\",\n        },\n{\n            'v': 17291,\n            'f': \"17291\",\n        },\n\"Bless Online\",\n{\n            'v': 2018.0,\n            'f': \"2018.0\",\n        },\n\"Early Access ReviewDO NOT BUY THIS GAME!!!!!List of missing stuff, which was promised.Endgame content - GONEBig chunk of  PvP - GONEAreas Promised - GONECombat is weird n clunky Graphics are old and bad.Frame issues only half fixed by altering INI file - Which devs know about but deletes the posts aboutCan't level efficiently solo anymore, as they nerfed every class by 80%Wait about 2 years then maybe try it out, theres a no refund policy so be warned!!!Yeye people will say, chill its EA EA EA EA...A game that has been in development for years and released several times will never be an EARLY ACCES TITLE!!!Uses U3 Engine and D9 from 2002... Cash Grab gghttps://www.youtube.com/watch?v=Ke5dEmNSJG4 \",\n{\n            'v': 0,\n            'f': \"0\",\n        }],\n [{\n            'v': 16759,\n            'f': \"16759\",\n        },\n{\n            'v': 24728,\n            'f': \"24728\",\n        },\n\"Cuisine Royale\",\n{\n            'v': 2018.0,\n            'f': \"2018.0\",\n        },\n\"Early Access ReviewAmazing game, absolutely loved it, hilarious even without jokes, when I first found the loot crates I nearly fell out of my chair, the only problem is the item spawn rate, they're as scarce as my dad.Also, anti-aliasing gets really buggy when you are in the water, while the camera is out of the water\",\n{\n            'v': 1,\n            'f': \"1\",\n        }],\n [{\n            'v': 12776,\n            'f': \"12776\",\n        },\n{\n            'v': 18273,\n            'f': \"18273\",\n        },\n\"RaceRoom Racing Experience\",\n{\n            'v': 2014.0,\n            'f': \"2014.0\",\n        },\n\"This Is So Hard To Steer I don't Get it? DONT GET IT! Just Don't Its So Hard To Steer And Don't Waste Ur Money On The Cars And Tracks Just Don't Get It! I give it A Bad Review -CreeperHunter913\",\n{\n            'v': 0,\n            'f': \"0\",\n        }],\n [{\n            'v': 10349,\n            'f': \"10349\",\n        },\n{\n            'v': 15757,\n            'f': \"15757\",\n        },\n\"theHunter Classic\",\n{\n            'v': 2014.0,\n            'f': \"2014.0\",\n        },\n\"A quite frankly fantastic hunting game that deserves to be played because of it's rich content and unique experience, but utterly ruined by the Pay2Enjoy model.This game is ATTROCIOUS when it comes to nickle and diming it's customers. Everything that is not a rabit or a specific kind of deer will cost you money. You will find NO enjoyment in this game without paying money and that is it's biggest sin. Rather than making this a fun game where you can pay for boosts, silly clothes and extras they made this into a hunting game where you can't hunt 90% of the animals in the game without paying a monthly fee!Disastrous and crippling to what would have othewise been a fantastic game. Heck if I had bought this at 30$ for just the singleplayer I'd be a happy customer. However I'm not sinking over 60$ a year into this game for occasional play. This is a game you play when you want a switch from things. Want to relax or just want to see if you can finally catch that animal you saw a couple of weeks ago.It is not worth the bloody MMO like subscription fees in ANY sense of the word. Do not buy anything because this game doesn't give two \\u00e2\\u2122\\u00a5\\u00e2\\u2122\\u00a5\\u00e2\\u2122\\u00a5\\u00e2\\u2122\\u00a5s about your enjoyment and if you play be prepared to be bored out of your \\u00e2\\u2122\\u00a5\\u00e2\\u2122\\u00a5\\u00e2\\u2122\\u00a5\\u00e2\\u2122\\u00a5ing mind after your 20th mule deer!PS: Don't be deceived by my steam stats. I have played this game since 2012 into 2013 and early 2014 and got thoroughly sick of it each time that I just hit the uninstal button after killing my thousandth animal that I could harvest because I needed to pay money for a license.\",\n{\n            'v': 0,\n            'f': \"0\",\n        }]],\n        columns: [[\"number\", \"index\"], [\"number\", \"review_id\"], [\"string\", \"title\"], [\"number\", \"year\"], [\"string\", \"user_review\"], [\"number\", \"user_suggestion\"]],\n        columnOptions: [{\"width\": \"1px\", \"className\": \"index_column\"}],\n        rowsPerPage: 25,\n        helpUrl: \"https://colab.research.google.com/notebooks/data_table.ipynb\",\n        suppressOutputScrolling: true,\n        minimumWidth: undefined,\n      });\n    "
          },
          "metadata": {},
          "execution_count": 10
        }
      ]
    },
    {
      "cell_type": "code",
      "source": [
        "import seaborn as sns \n",
        "\n",
        "sns.countplot(df.user_suggestion)"
      ],
      "metadata": {
        "colab": {
          "base_uri": "https://localhost:8080/",
          "height": 355
        },
        "id": "F2Xjp36FeacO",
        "outputId": "2ebc1c33-3e01-4e18-e8eb-c4f8d5781f1e"
      },
      "execution_count": 11,
      "outputs": [
        {
          "output_type": "stream",
          "name": "stderr",
          "text": [
            "/usr/local/lib/python3.7/dist-packages/seaborn/_decorators.py:43: FutureWarning: Pass the following variable as a keyword arg: x. From version 0.12, the only valid positional argument will be `data`, and passing other arguments without an explicit keyword will result in an error or misinterpretation.\n",
            "  FutureWarning\n"
          ]
        },
        {
          "output_type": "execute_result",
          "data": {
            "text/plain": [
              "<matplotlib.axes._subplots.AxesSubplot at 0x7fd660bca710>"
            ]
          },
          "metadata": {},
          "execution_count": 11
        },
        {
          "output_type": "display_data",
          "data": {
            "text/plain": [
              "<Figure size 432x288 with 1 Axes>"
            ],
            "image/png": "[encoded data removed]"
          },
          "metadata": {
            "needs_background": "light"
          }
        }
      ]
    },
    {
      "cell_type": "markdown",
      "source": [
        "## Creating Bag of Words "
      ],
      "metadata": {
        "id": "yQqr0xqxf27r"
      }
    },
    {
      "cell_type": "code",
      "source": [
        "data = df[['user_review', 'user_suggestion']].copy()\n",
        "data.rename({'user_review': 'text', 'user_suggestion': 'label'}, inplace=True, axis=1)\n",
        "\n",
        "data.head()"
      ],
      "metadata": {
        "colab": {
          "base_uri": "https://localhost:8080/",
          "height": 283
        },
        "id": "t6Im1NcugHMn",
        "outputId": "324dc842-5945-498c-edff-4c4f3164e178"
      },
      "execution_count": 16,
      "outputs": [
        {
          "output_type": "execute_result",
          "data": {
            "text/plain": [
              "                                                text  label\n",
              "0  I'm scared and hearing creepy voices.  So I'll...      1\n",
              "1  Best game, more better than Sam Pepper's YouTu...      1\n",
              "2  A littly iffy on the controls, but once you kn...      1\n",
              "3  Great game, fun and colorful and all that.A si...      1\n",
              "4  Not many games have the cute tag right next to...      1"
            ],
            "text/html": [
              "\n",
              "  <div id=\"df-0d7b4314-a782-419e-b8c6-2b724cb9c3a8\">\n",
              "    <div class=\"colab-df-container\">\n",
              "      <div>\n",
              "<style scoped>\n",
              "    .dataframe tbody tr th:only-of-type {\n",
              "        vertical-align: middle;\n",
              "    }\n",
              "\n",
              "    .dataframe tbody tr th {\n",
              "        vertical-align: top;\n",
              "    }\n",
              "\n",
              "    .dataframe thead th {\n",
              "        text-align: right;\n",
              "    }\n",
              "</style>\n",
              "<table border=\"1\" class=\"dataframe\">\n",
              "  <thead>\n",
              "    <tr style=\"text-align: right;\">\n",
              "      <th></th>\n",
              "      <th>text</th>\n",
              "      <th>label</th>\n",
              "    </tr>\n",
              "  </thead>\n",
              "  <tbody>\n",
              "    <tr>\n",
              "      <th>0</th>\n",
              "      <td>I'm scared and hearing creepy voices.  So I'll...</td>\n",
              "      <td>1</td>\n",
              "    </tr>\n",
              "    <tr>\n",
              "      <th>1</th>\n",
              "      <td>Best game, more better than Sam Pepper's YouTu...</td>\n",
              "      <td>1</td>\n",
              "    </tr>\n",
              "    <tr>\n",
              "      <th>2</th>\n",
              "      <td>A littly iffy on the controls, but once you kn...</td>\n",
              "      <td>1</td>\n",
              "    </tr>\n",
              "    <tr>\n",
              "      <th>3</th>\n",
              "      <td>Great game, fun and colorful and all that.A si...</td>\n",
              "      <td>1</td>\n",
              "    </tr>\n",
              "    <tr>\n",
              "      <th>4</th>\n",
              "      <td>Not many games have the cute tag right next to...</td>\n",
              "      <td>1</td>\n",
              "    </tr>\n",
              "  </tbody>\n",
              "</table>\n",
              "</div>\n",
              "      <button class=\"colab-df-convert\" onclick=\"convertToInteractive('df-0d7b4314-a782-419e-b8c6-2b724cb9c3a8')\"\n",
              "              title=\"Convert this dataframe to an interactive table.\"\n",
              "              style=\"display:none;\">\n",
              "        \n",
              "  <svg xmlns=\"http://www.w3.org/2000/svg\" height=\"24px\"viewBox=\"0 0 24 24\"\n",
              "       width=\"24px\">\n",
              "    <path d=\"M0 0h24v24H0V0z\" fill=\"none\"/>\n",
              "    <path d=\"M18.56 5.44l.94 2.06.94-2.06 2.06-.94-2.06-.94-.94-2.06-.94 2.06-2.06.94zm-11 1L8.5 8.5l.94-2.06 2.06-.94-2.06-.94L8.5 2.5l-.94 2.06-2.06.94zm10 10l.94 2.06.94-2.06 2.06-.94-2.06-.94-.94-2.06-.94 2.06-2.06.94z\"/><path d=\"M17.41 7.96l-1.37-1.37c-.4-.4-.92-.59-1.43-.59-.52 0-1.04.2-1.43.59L10.3 9.45l-7.72 7.72c-.78.78-.78 2.05 0 2.83L4 21.41c.39.39.9.59 1.41.59.51 0 1.02-.2 1.41-.59l7.78-7.78 2.81-2.81c.8-.78.8-2.07 0-2.86zM5.41 20L4 18.59l7.72-7.72 1.47 1.35L5.41 20z\"/>\n",
              "  </svg>\n",
              "      </button>\n",
              "      \n",
              "  <style>\n",
              "    .colab-df-container {\n",
              "      display:flex;\n",
              "      flex-wrap:wrap;\n",
              "      gap: 12px;\n",
              "    }\n",
              "\n",
              "    .colab-df-convert {\n",
              "      background-color: #E8F0FE;\n",
              "      border: none;\n",
              "      border-radius: 50%;\n",
              "      cursor: pointer;\n",
              "      display: none;\n",
              "      fill: #1967D2;\n",
              "      height: 32px;\n",
              "      padding: 0 0 0 0;\n",
              "      width: 32px;\n",
              "    }\n",
              "\n",
              "    .colab-df-convert:hover {\n",
              "      background-color: #E2EBFA;\n",
              "      box-shadow: 0px 1px 2px rgba(60, 64, 67, 0.3), 0px 1px 3px 1px rgba(60, 64, 67, 0.15);\n",
              "      fill: #174EA6;\n",
              "    }\n",
              "\n",
              "    [theme=dark] .colab-df-convert {\n",
              "      background-color: #3B4455;\n",
              "      fill: #D2E3FC;\n",
              "    }\n",
              "\n",
              "    [theme=dark] .colab-df-convert:hover {\n",
              "      background-color: #434B5C;\n",
              "      box-shadow: 0px 1px 3px 1px rgba(0, 0, 0, 0.15);\n",
              "      filter: drop-shadow(0px 1px 2px rgba(0, 0, 0, 0.3));\n",
              "      fill: #FFFFFF;\n",
              "    }\n",
              "  </style>\n",
              "\n",
              "      <script>\n",
              "        const buttonEl =\n",
              "          document.querySelector('#df-0d7b4314-a782-419e-b8c6-2b724cb9c3a8 button.colab-df-convert');\n",
              "        buttonEl.style.display =\n",
              "          google.colab.kernel.accessAllowed ? 'block' : 'none';\n",
              "\n",
              "        async function convertToInteractive(key) {\n",
              "          const element = document.querySelector('#df-0d7b4314-a782-419e-b8c6-2b724cb9c3a8');\n",
              "          const dataTable =\n",
              "            await google.colab.kernel.invokeFunction('convertToInteractive',\n",
              "                                                     [key], {});\n",
              "          if (!dataTable) return;\n",
              "\n",
              "          const docLinkHtml = 'Like what you see? Visit the ' +\n",
              "            '<a target=\"_blank\" href=https://colab.research.google.com/notebooks/data_table.ipynb>data table notebook</a>'\n",
              "            + ' to learn more about interactive tables.';\n",
              "          element.innerHTML = '';\n",
              "          dataTable['output_type'] = 'display_data';\n",
              "          await google.colab.output.renderOutput(dataTable, element);\n",
              "          const docLink = document.createElement('div');\n",
              "          docLink.innerHTML = docLinkHtml;\n",
              "          element.appendChild(docLink);\n",
              "        }\n",
              "      </script>\n",
              "    </div>\n",
              "  </div>\n",
              "  "
            ],
            "application/vnd.google.colaboratory.module+javascript": "\n      import \"https://ssl.gstatic.com/colaboratory/data_table/81f25a011006ed3d/data_table.js\";\n\n      window.createDataTable({\n        data: [[{\n            'v': 0,\n            'f': \"0\",\n        },\n\"I'm scared and hearing creepy voices.  So I'll pause for a moment and write a review while I wait for my heart beat to return to atleast somewhat calmer times.  This game is adorable and creepy like my happy tree friends but with the graphics sceme of my childhood (but more bubble and 'clean').  Hello 1990's.What charactes there are (that isnot trying to kill me) were likable and a bit odd.  I did do a few noob things though, such as:Oh look a class room full of ghosts from dead children, lets shine my flashlight on them and stand there staring at them..Or, hmm creepy music, I'll turn around and see if I can see what's chasing me.Never before in a game have I been this afraid of finding a locked door.\",\n{\n            'v': 1,\n            'f': \"1\",\n        }],\n [{\n            'v': 1,\n            'f': \"1\",\n        },\n\"Best game, more better than Sam Pepper's YouTube account. 10/10What you'll need to play:A computerSome extra pants.Pros:Scary as hell.Fun.Adventure.Spooky.Did I forgot to mention that its scary as hell?You'll get more pants/briefs in your wardrobe.Time consuming if you're bored.Cons:Buying pants/briefs. You haven't downloaded it yet.\",\n{\n            'v': 1,\n            'f': \"1\",\n        }],\n [{\n            'v': 2,\n            'f': \"2\",\n        },\n\"A littly iffy on the controls, but once you know how to play, very easy to master. I've made it to floor 1000 before, but due to certain circumstances was unable to finish. Was not game related, don't worry, not a bug/glitch or antyhing.I highly recommend this for casual play, maybe with a friend or two watching. Hilarity ensues, especially once you hit floor 150. Have fun my fellow fleshlings!\",\n{\n            'v': 1,\n            'f': \"1\",\n        }],\n [{\n            'v': 3,\n            'f': \"3\",\n        },\n\"Great game, fun and colorful and all that.A side note, though: When are we getting windowed mode? My computer hates fullscreen so.... yeah. The computer doesn't like to run this. Shame, because this is really enjoyable. But until then, I guess I'll settle for more Skyrim. Cheers!\",\n{\n            'v': 1,\n            'f': \"1\",\n        }],\n [{\n            'v': 4,\n            'f': \"4\",\n        },\n\"Not many games have the cute tag right next to the horror tag on Steam.I first played this game in late 2014 and coming back to it for the first time since. This game is so good for it being free, take advantage and experience it. Try and get to  room 1000 or as close as you can. The further you progress the darker the game becomes.\",\n{\n            'v': 1,\n            'f': \"1\",\n        }]],\n        columns: [[\"number\", \"index\"], [\"string\", \"text\"], [\"number\", \"label\"]],\n        columnOptions: [{\"width\": \"1px\", \"className\": \"index_column\"}],\n        rowsPerPage: 25,\n        helpUrl: \"https://colab.research.google.com/notebooks/data_table.ipynb\",\n        suppressOutputScrolling: true,\n        minimumWidth: undefined,\n      });\n    "
          },
          "metadata": {},
          "execution_count": 16
        }
      ]
    },
    {
      "cell_type": "code",
      "source": [
        "vectorizer = bertVectorizer() \n",
        "bag_of_word = vectorizer.fit_transform(data)\n",
        "\n",
        "bag_of_word "
      ],
      "metadata": {
        "id": "9t4H7JgZg74u"
      },
      "execution_count": null,
      "outputs": []
    },
    {
      "cell_type": "markdown",
      "source": [
        "### CONTINUE DEVELOPMENT\n"
      ],
      "metadata": {
        "id": "TbW6tsigm7Yv"
      }
    }
  ]
}